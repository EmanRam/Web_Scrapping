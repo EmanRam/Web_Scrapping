{
 "cells": [
  {
   "cell_type": "code",
   "execution_count": 1,
   "metadata": {},
   "outputs": [],
   "source": [
    "from selenium import webdriver\n",
    "import requests\n",
    "import time"
   ]
  },
  {
   "cell_type": "code",
   "execution_count": 2,
   "metadata": {},
   "outputs": [],
   "source": [
    "driver = webdriver.Chrome()"
   ]
  },
  {
   "cell_type": "code",
   "execution_count": 3,
   "metadata": {},
   "outputs": [],
   "source": [
    "driver.get(\"https://www.jumia.com.eg/ar/catalog/?q=charger\")"
   ]
  },
  {
   "cell_type": "code",
   "execution_count": 4,
   "metadata": {},
   "outputs": [],
   "source": [
    "height = 0\n",
    "\n",
    "for i in range(15):\n",
    "    height = height + 500\n",
    "    driver.execute_script(f\"window.scrollTo(0, {height})\")\n",
    "    time.sleep(1)"
   ]
  },
  {
   "cell_type": "code",
   "execution_count": 5,
   "metadata": {},
   "outputs": [
    {
     "name": "stdout",
     "output_type": "stream",
     "text": [
      "40\n",
      "40\n",
      "29\n"
     ]
    }
   ],
   "source": [
    "product_name = driver.find_elements(\"xpath\", \"//a/div/h3[@class='name']\")\n",
    "product_price = driver.find_elements(\"xpath\", \"//a/div/div[@class='prc']\")\n",
    "product_rate = driver.find_elements(\"xpath\", \"//a/div/div/div[@class='stars _s']\")\n",
    "\n",
    "print(len(product_name))\n",
    "print(len(product_price))\n",
    "print(len(product_rate))"
   ]
  },
  {
   "cell_type": "code",
   "execution_count": 6,
   "metadata": {},
   "outputs": [
    {
     "name": "stdout",
     "output_type": "stream",
     "text": [
      "راس شاحن ايفون - 20 واط - مدخل تايب سى - ابيض\n",
      "شاحن ايفون سريع - 20 واط + كابل شحن من (تايب سى)الى(ايفون) - ابيض\n",
      "Samsung شاحن سريع سامسونج 45 وات محول الطاقه مع كابل فى العبوة\n",
      "Samsung شاحن حائط سريع من سامسونج من النوع تايب سى الى تايب سى بقوة 45 وات - أسود\n",
      "محول تيار شاحن ابل ايفون بقدرة 20 وات ومنفذ USB-C مع كابل شحن ايفون بمنفذ USB-C وجودة اصلية لموبايل ايفون 13/12/11/XS برو ماكس وايباد برو/اير/ميني (كابل شاحن ولايتينج)\n",
      "Samsung راس شاحن ثنائي 45 واط فائق السرعه بمنفذ من نوع تايب سي\n",
      "راس شاحن سريع 45 واط - بمنفذين (يو اس بى) و(تايب سى) يدعم هواتف السامسونج والاوبو والشاومى والهواوى والانفينكس\n",
      "Samsung شاحن سريع سامسونج 25 وات\n",
      "شاحن سريع (22.5 واط) + كابل شحن وبيانات سريع من (يو اس بى) الى (تايب سى) 6 امبير\n",
      "Havit شحن حائط (PD 33W، USB-A 30W)\n",
      "XO XO-L78 Fast Charging Adapter 2.4 A Dual USB (2 Ports) With Micro USB Cable EU Set - White\n",
      "Samsung شاحن سريع سامسونج 25 وات\n",
      "شاحن ايفون سريع بسرعه 20 وات لهاتف ايفون 12 برو ماكس رأس شاحن تايب سي + كابل ايفون - تايب سي\n",
      "WUW شاحن ميكرو يو اس بى 3.5 امبير بمنفذ واحد للشحن - أبيض\n",
      "Anker GaNPrime - 735 Charger (GaNPrime 65W) - A2668311 - Black\n",
      "Ugreen Quick Charge 4.0 QC PD Charger 20W USB Type C Fast Charger EU Plug\n",
      "شاحن ايفون فاست 20 واط + كابل الشحن - لجميع هواتف ايفون الحديثة\n",
      "راس شاحن ايفون - 20 واط - مدخل تايب سى - ابيض\n",
      "Aspor A 829 Fast Charger – Micro USB - White\n",
      "Energizer Power Delivery Charger - 20W - USB-C Cable Included - EU / UK / US\n",
      "Samsung أدابتور منزلي 65 وات باور تريو يو اس بي سي مخرجين و يو اس بي ايه عادى مخرج واحد - اسود\n",
      "شاحن سريع سوبر فووك 65 واط + كابل الشحن تايب سى - يتناسب مع هواتف الاوبو والريلمى والرينو\n",
      "Ugreen 45W USB C Charger, Nexode GaN Dual Foldable Wall Charger\n",
      "Ugreen 65W USB C Charger EU Plug 4-Port GaN Type C Fast Charging Wall Adapter\n",
      "شاحن ايفون 13 برو ماكس سريع - 20 واط + كابل شحن من (تايب سى)الى(ايفون)\n",
      "Samsung شاحن جداري بتقنية PD بقدرة 25 وات من سامسونج بمنفذ Type-C - لون أسود\n",
      "Earldom شاحن 2.4 أمبير عدد 2 مخرج يواس بي وسوكت شحن ميكرو\n",
      "شاحن ايفون سريع 20 واط + كابل من تايب سى الى ايفون - لجميع هواتف ايفون\n",
      "Denmen مجموعة شحن السفر المقاومة للانفجار DC01T ، ومحول وكابل من أجل Type-C\n",
      "Samsung شاحن منزلي سامسونج 45 وات باور مع كابل من نوع تايب سي الى تايب سي 1.8 متر - اسود\n",
      "شاحن ايفون سريع 20 واط بمنفذين (يو اس بى + تايب سى) + كابل الشحن من تايب سى الى ايفون\n",
      "Ldnio Ldnio Power , just faster turbo power engine 3 in 1 mobile charging kit cc200 Power Bank Car charger Travel charger Turbo power engline\n",
      "Anker Charger Nano II 65W - Faster And Smaller For Haheld Devices And Notebooks -A2663l11- Black\n",
      "JOYROOM شاحن سطح المكتب بقوة 65 وات من جوي روم يدعم الشحن السريع متعدد الاستخدمات لون اسود\n",
      "Aspor A 833 Charger With Micro USB Cable - White\n",
      "شاحن حائط سريع من سامسونج من النوع تايب سى الى تايب سى بقوة 25 وات - أسود\n",
      "شاحن ايفون ثلاثية 35 واط مزدوج المداخل (تايب سى) + 2 كابل من (تايب سى الى ايفون)\n",
      "شاحن ايفون ثلاثي 5 واط + كابل الشحن من (يو اس بى)الى(ايفون)\n",
      "Aspor A 829 Fast Charger – Iphone - White\n",
      "Ugreen QC 3.0 18W USB Charger Adapter Fast Wall Charger EU Plug\n"
     ]
    }
   ],
   "source": [
    "for i in product_name:\n",
    "    print(i.text)"
   ]
  },
  {
   "cell_type": "code",
   "execution_count": 7,
   "metadata": {},
   "outputs": [
    {
     "name": "stdout",
     "output_type": "stream",
     "text": [
      "جنيه 144.43\n",
      "جنيه 214.13\n",
      "جنيه 399.00\n",
      "جنيه 565.00\n",
      "جنيه 625.00\n",
      "جنيه 285.22\n",
      "جنيه 249.48\n",
      "جنيه 449.00\n",
      "جنيه 174.73\n",
      "جنيه 375.00\n",
      "جنيه 129.00\n",
      "جنيه 399.00\n",
      "جنيه 269.68\n",
      "جنيه 55.00\n",
      "جنيه 1,799.90\n",
      "جنيه 449.00\n",
      "جنيه 179.78\n",
      "جنيه 179.78\n",
      "جنيه 75.00\n",
      "جنيه 399.00\n",
      "جنيه 1,919.90\n",
      "جنيه 279.78\n",
      "جنيه 1,149.00\n",
      "جنيه 1,519.00\n",
      "جنيه 199.98\n",
      "جنيه 804.00\n",
      "جنيه 125.00\n",
      "جنيه 248.47\n",
      "جنيه 75.00\n",
      "جنيه 1,599.90\n",
      "جنيه 209.80\n",
      "جنيه 370.00\n",
      "جنيه 1,599.90\n",
      "جنيه 1,250.00\n",
      "جنيه 99.00\n",
      "جنيه 499.00\n",
      "جنيه 299.99\n",
      "جنيه 139.38\n",
      "جنيه 75.00\n",
      "جنيه 489.00\n"
     ]
    }
   ],
   "source": [
    "for i in product_price:\n",
    "    print(i.text)"
   ]
  },
  {
   "cell_type": "code",
   "execution_count": 8,
   "metadata": {},
   "outputs": [
    {
     "name": "stdout",
     "output_type": "stream",
     "text": [
      "4.5 out of 5\n",
      "3.4 out of 5\n",
      "4.2 out of 5\n",
      "5 out of 5\n",
      "4.6 out of 5\n",
      "5 out of 5\n",
      "4 out of 5\n",
      "5 out of 5\n",
      "4.5 out of 5\n",
      "4.5 out of 5\n",
      "4.8 out of 5\n",
      "3.6 out of 5\n",
      "4.3 out of 5\n",
      "4.1 out of 5\n",
      "4.8 out of 5\n",
      "4.5 out of 5\n",
      "5 out of 5\n",
      "2.3 out of 5\n",
      "3.5 out of 5\n",
      "3.7 out of 5\n",
      "1 out of 5\n",
      "5 out of 5\n",
      "5 out of 5\n",
      "5 out of 5\n",
      "5 out of 5\n",
      "5 out of 5\n",
      "4 out of 5\n",
      "5 out of 5\n",
      "5 out of 5\n"
     ]
    }
   ],
   "source": [
    "for i in product_rate:\n",
    "    print(i.text)"
   ]
  },
  {
   "cell_type": "markdown",
   "metadata": {},
   "source": [
    "## get URLs of images"
   ]
  },
  {
   "cell_type": "code",
   "execution_count": 9,
   "metadata": {},
   "outputs": [
    {
     "name": "stdout",
     "output_type": "stream",
     "text": [
      "40\n"
     ]
    }
   ],
   "source": [
    "image_link = driver.find_elements(\"xpath\", \"//a/div[@class='img-c']/img[@class='img']\")\n",
    "\n",
    "print(len(image_link))"
   ]
  },
  {
   "cell_type": "code",
   "execution_count": 10,
   "metadata": {},
   "outputs": [],
   "source": [
    "url_list = []\n",
    "for i in image_link:\n",
    "    url_list.append(i.get_attribute(\"data-src\"))"
   ]
  },
  {
   "cell_type": "markdown",
   "metadata": {},
   "source": [
    "## download the images"
   ]
  },
  {
   "cell_type": "code",
   "execution_count": 11,
   "metadata": {},
   "outputs": [],
   "source": [
    "for index, url in enumerate(url_list):\n",
    "    response = requests.get(url, stream=True)\n",
    "    \n",
    "    with open(f\"images\\\\img_{index+1}.jpg\", \"wb\") as f:\n",
    "        for chunck in response.iter_content(chunk_size=128):\n",
    "            f.write(chunck)"
   ]
  },
  {
   "cell_type": "code",
   "execution_count": 12,
   "metadata": {},
   "outputs": [],
   "source": [
    "product_title = []\n",
    "product_price = []\n",
    "product_rate = []\n",
    "url = []"
   ]
  },
  {
   "cell_type": "code",
   "execution_count": 13,
   "metadata": {
    "scrolled": false
   },
   "outputs": [
    {
     "name": "stdout",
     "output_type": "stream",
     "text": [
      "Title: راس شاحن ايفون - 20 واط - مدخل تايب سى - ابيض\n",
      "Price: جنيه 144.43\n",
      "Rating: 4.5 out of 5\n",
      "Image URL: https://eg.jumia.is/unsafe/fit-in/300x300/filters:fill(white)/product/80/840962/1.jpg?3006\n",
      "---\n",
      "Title: شاحن ايفون سريع - 20 واط + كابل شحن من (تايب سى)الى(ايفون) - ابيض\n",
      "Price: جنيه 214.13\n",
      "Rating: 3.4 out of 5\n",
      "Image URL: https://eg.jumia.is/unsafe/fit-in/300x300/filters:fill(white)/product/90/840962/1.jpg?8139\n",
      "---\n",
      "Error processing product: name 'NoSuchElementException' is not defined\n",
      "Title: Samsung شاحن حائط سريع من سامسونج من النوع تايب سى الى تايب سى بقوة 45 وات - أسود\n",
      "Price: جنيه 565.00\n",
      "Rating: 4.2 out of 5\n",
      "Image URL: https://eg.jumia.is/unsafe/fit-in/300x300/filters:fill(white)/product/80/980403/1.jpg?7951\n",
      "---\n",
      "Title: محول تيار شاحن ابل ايفون بقدرة 20 وات ومنفذ USB-C مع كابل شحن ايفون بمنفذ USB-C وجودة اصلية لموبايل ايفون 13/12/11/XS برو ماكس وايباد برو/اير/ميني (كابل شاحن ولايتينج)\n",
      "Price: جنيه 625.00\n",
      "Rating: 5 out of 5\n",
      "Image URL: https://eg.jumia.is/unsafe/fit-in/300x300/filters:fill(white)/product/77/598133/1.jpg?2108\n",
      "---\n",
      "Error processing product: name 'NoSuchElementException' is not defined\n",
      "Title: راس شاحن سريع 45 واط - بمنفذين (يو اس بى) و(تايب سى) يدعم هواتف السامسونج والاوبو والشاومى والهواوى والانفينكس\n",
      "Price: جنيه 249.48\n",
      "Rating: 4.6 out of 5\n",
      "Image URL: https://eg.jumia.is/unsafe/fit-in/300x300/filters:fill(white)/product/19/932462/1.jpg?7907\n",
      "---\n",
      "Title: Samsung شاحن سريع سامسونج 25 وات\n",
      "Price: جنيه 449.00\n",
      "Rating: 5 out of 5\n",
      "Image URL: https://eg.jumia.is/unsafe/fit-in/300x300/filters:fill(white)/product/74/986174/1.jpg?2055\n",
      "---\n",
      "Title: شاحن سريع (22.5 واط) + كابل شحن وبيانات سريع من (يو اس بى) الى (تايب سى) 6 امبير\n",
      "Price: جنيه 174.73\n",
      "Rating: 4 out of 5\n",
      "Image URL: https://eg.jumia.is/unsafe/fit-in/300x300/filters:fill(white)/product/52/256844/1.jpg?1941\n",
      "---\n",
      "Error processing product: name 'NoSuchElementException' is not defined\n",
      "Title: XO XO-L78 Fast Charging Adapter 2.4 A Dual USB (2 Ports) With Micro USB Cable EU Set - White\n",
      "Price: جنيه 129.00\n",
      "Rating: 5 out of 5\n",
      "Image URL: https://eg.jumia.is/unsafe/fit-in/300x300/filters:fill(white)/product/07/505862/1.jpg?4250\n",
      "---\n",
      "Title: Samsung شاحن سريع سامسونج 25 وات\n",
      "Price: جنيه 399.00\n",
      "Rating: 4.5 out of 5\n",
      "Image URL: https://eg.jumia.is/unsafe/fit-in/300x300/filters:fill(white)/product/29/569474/1.jpg?9442\n",
      "---\n",
      "Title: شاحن ايفون سريع بسرعه 20 وات لهاتف ايفون 12 برو ماكس رأس شاحن تايب سي + كابل ايفون - تايب سي\n",
      "Price: جنيه 269.68\n",
      "Rating: 4.5 out of 5\n",
      "Image URL: https://eg.jumia.is/unsafe/fit-in/300x300/filters:fill(white)/product/19/336932/1.jpg?9643\n",
      "---\n",
      "Error processing product: name 'NoSuchElementException' is not defined\n",
      "Title: Anker GaNPrime - 735 Charger (GaNPrime 65W) - A2668311 - Black\n",
      "Price: جنيه 1,799.90\n",
      "Rating: 4.8 out of 5\n",
      "Image URL: https://eg.jumia.is/unsafe/fit-in/300x300/filters:fill(white)/product/52/068354/1.jpg?6294\n",
      "---\n",
      "Error processing product: name 'NoSuchElementException' is not defined\n",
      "Title: شاحن ايفون فاست 20 واط + كابل الشحن - لجميع هواتف ايفون الحديثة\n",
      "Price: جنيه 179.78\n",
      "Rating: 3.6 out of 5\n",
      "Image URL: https://eg.jumia.is/unsafe/fit-in/300x300/filters:fill(white)/product/49/360242/1.jpg?3823\n",
      "---\n",
      "Title: راس شاحن ايفون - 20 واط - مدخل تايب سى - ابيض\n",
      "Price: جنيه 179.78\n",
      "Rating: 4.3 out of 5\n",
      "Image URL: https://eg.jumia.is/unsafe/fit-in/300x300/filters:fill(white)/product/49/296574/1.jpg?1968\n",
      "---\n",
      "Title: Aspor A 829 Fast Charger – Micro USB - White\n",
      "Price: جنيه 75.00\n",
      "Rating: 4.1 out of 5\n",
      "Image URL: https://eg.jumia.is/unsafe/fit-in/300x300/filters:fill(white)/product/96/006171/1.jpg?9889\n",
      "---\n",
      "Title: Energizer Power Delivery Charger - 20W - USB-C Cable Included - EU / UK / US\n",
      "Price: جنيه 399.00\n",
      "Rating: 4.8 out of 5\n",
      "Image URL: https://eg.jumia.is/unsafe/fit-in/300x300/filters:fill(white)/product/23/492822/1.jpg?4514\n",
      "---\n",
      "Title: Samsung أدابتور منزلي 65 وات باور تريو يو اس بي سي مخرجين و يو اس بي ايه عادى مخرج واحد - اسود\n",
      "Price: جنيه 1,919.90\n",
      "Rating: 4.5 out of 5\n",
      "Image URL: https://eg.jumia.is/unsafe/fit-in/300x300/filters:fill(white)/product/94/467272/1.jpg?3369\n",
      "---\n",
      "Error processing product: name 'NoSuchElementException' is not defined\n",
      "Error processing product: name 'NoSuchElementException' is not defined\n",
      "Title: Ugreen 65W USB C Charger EU Plug 4-Port GaN Type C Fast Charging Wall Adapter\n",
      "Price: جنيه 1,519.00\n",
      "Rating: 5 out of 5\n",
      "Image URL: https://eg.jumia.is/unsafe/fit-in/300x300/filters:fill(white)/product/43/798523/1.jpg?9357\n",
      "---\n",
      "Title: شاحن ايفون 13 برو ماكس سريع - 20 واط + كابل شحن من (تايب سى)الى(ايفون)\n",
      "Price: جنيه 199.98\n",
      "Rating: 2.3 out of 5\n",
      "Image URL: https://eg.jumia.is/unsafe/fit-in/300x300/filters:fill(white)/product/97/201903/1.jpg?9646\n",
      "---\n",
      "Error processing product: name 'NoSuchElementException' is not defined\n",
      "Title: Earldom شاحن 2.4 أمبير عدد 2 مخرج يواس بي وسوكت شحن ميكرو\n",
      "Price: جنيه 125.00\n",
      "Rating: 3.5 out of 5\n",
      "Image URL: https://eg.jumia.is/unsafe/fit-in/300x300/filters:fill(white)/product/39/011932/1.jpg?3322\n",
      "---\n",
      "Title: شاحن ايفون سريع 20 واط + كابل من تايب سى الى ايفون - لجميع هواتف ايفون\n",
      "Price: جنيه 248.47\n",
      "Rating: 3.7 out of 5\n",
      "Image URL: https://eg.jumia.is/unsafe/fit-in/300x300/filters:fill(white)/product/92/655042/1.jpg?5110\n",
      "---\n",
      "Title: Denmen مجموعة شحن السفر المقاومة للانفجار DC01T ، ومحول وكابل من أجل Type-C\n",
      "Price: جنيه 75.00\n",
      "Rating: 1 out of 5\n",
      "Image URL: https://eg.jumia.is/unsafe/fit-in/300x300/filters:fill(white)/product/72/257052/1.jpg?1014\n",
      "---\n",
      "Title: Samsung شاحن منزلي سامسونج 45 وات باور مع كابل من نوع تايب سي الى تايب سي 1.8 متر - اسود\n",
      "Price: جنيه 1,599.90\n",
      "Rating: 5 out of 5\n",
      "Image URL: https://eg.jumia.is/unsafe/fit-in/300x300/filters:fill(white)/product/68/855372/1.jpg?1833\n",
      "---\n",
      "Error processing product: name 'NoSuchElementException' is not defined\n",
      "Error processing product: name 'NoSuchElementException' is not defined\n",
      "Title: Anker Charger Nano II 65W - Faster And Smaller For Haheld Devices And Notebooks -A2663l11- Black\n",
      "Price: جنيه 1,599.90\n",
      "Rating: 5 out of 5\n",
      "Image URL: https://eg.jumia.is/unsafe/fit-in/300x300/filters:fill(white)/product/24/292364/1.jpg?0104\n",
      "---\n",
      "Title: JOYROOM شاحن سطح المكتب بقوة 65 وات من جوي روم يدعم الشحن السريع متعدد الاستخدمات لون اسود\n",
      "Price: جنيه 1,250.00\n",
      "Rating: 5 out of 5\n",
      "Image URL: https://eg.jumia.is/unsafe/fit-in/300x300/filters:fill(white)/product/20/922774/1.jpg?1824\n",
      "---\n",
      "Title: Aspor A 833 Charger With Micro USB Cable - White\n",
      "Price: جنيه 99.00\n",
      "Rating: 5 out of 5\n",
      "Image URL: https://eg.jumia.is/unsafe/fit-in/300x300/filters:fill(white)/product/94/140471/1.jpg?9985\n",
      "---\n",
      "Title: شاحن حائط سريع من سامسونج من النوع تايب سى الى تايب سى بقوة 25 وات - أسود\n",
      "Price: جنيه 499.00\n",
      "Rating: 5 out of 5\n",
      "Image URL: https://eg.jumia.is/unsafe/fit-in/300x300/filters:fill(white)/product/19/710284/1.jpg?7836\n",
      "---\n",
      "Error processing product: name 'NoSuchElementException' is not defined\n",
      "Title: شاحن ايفون ثلاثي 5 واط + كابل الشحن من (يو اس بى)الى(ايفون)\n",
      "Price: جنيه 139.38\n",
      "Rating: 4 out of 5\n",
      "Image URL: https://eg.jumia.is/unsafe/fit-in/300x300/filters:fill(white)/product/67/549762/1.jpg?6919\n",
      "---\n",
      "Title: Aspor A 829 Fast Charger – Iphone - White\n",
      "Price: جنيه 75.00\n",
      "Rating: 5 out of 5\n",
      "Image URL: https://eg.jumia.is/unsafe/fit-in/300x300/filters:fill(white)/product/27/006171/1.jpg?9890\n",
      "---\n",
      "Title: Ugreen QC 3.0 18W USB Charger Adapter Fast Wall Charger EU Plug\n",
      "Price: جنيه 489.00\n",
      "Rating: 5 out of 5\n",
      "Image URL: https://eg.jumia.is/unsafe/fit-in/300x300/filters:fill(white)/product/54/460623/1.jpg?3374\n",
      "---\n"
     ]
    }
   ],
   "source": [
    "product_containers = driver.find_elements_by_xpath(\"//article[@class='prd _fb col c-prd']\")\n",
    "\n",
    "for i in range(len(product_containers)):\n",
    "    try:\n",
    "        # product title\n",
    "        title = product_containers[i].find_element(\"xpath\", \".//a/div/h3[@class='name']\").text\n",
    "\n",
    "        # product price\n",
    "        price = product_containers[i].find_element(\"xpath\", \".//a/div/div[@class='prc']\").text\n",
    "\n",
    "        # product rating\n",
    "        try:\n",
    "            rate = product_containers[i].find_element(\"xpath\", \".//a/div/div/div[@class='stars _s']\").text\n",
    "        except NoSuchElementException:\n",
    "            rate = \"none\"\n",
    "\n",
    "        # URL of product image\n",
    "        image_url = url_list[i]\n",
    "\n",
    "        product_title.append(title)\n",
    "        product_price.append(price)\n",
    "        product_rate.append(rate)\n",
    "        url.append(image_url)\n",
    "        \n",
    "        print(f'Title: {title}')\n",
    "        print(f'Price: {price}')\n",
    "        print(f'Rating: {rate}')\n",
    "        print(f'Image URL: {image_url}')\n",
    "        print('---')\n",
    "\n",
    "    except Exception as e:\n",
    "        print(f'Error processing product: {e}')"
   ]
  },
  {
   "cell_type": "code",
   "execution_count": 14,
   "metadata": {},
   "outputs": [
    {
     "name": "stdout",
     "output_type": "stream",
     "text": [
      "29\n",
      "29\n",
      "29\n",
      "29\n"
     ]
    }
   ],
   "source": [
    "print(len(product_title))\n",
    "print(len(product_price))\n",
    "print(len(product_rate))\n",
    "print(len(url))"
   ]
  },
  {
   "cell_type": "code",
   "execution_count": 15,
   "metadata": {},
   "outputs": [
    {
     "name": "stdout",
     "output_type": "stream",
     "text": [
      "['جنيه 144.43', 'جنيه 214.13', 'جنيه 565.00', 'جنيه 625.00', 'جنيه 249.48', 'جنيه 449.00', 'جنيه 174.73', 'جنيه 129.00', 'جنيه 399.00', 'جنيه 269.68', 'جنيه 1,799.90', 'جنيه 179.78', 'جنيه 179.78', 'جنيه 75.00', 'جنيه 399.00', 'جنيه 1,919.90', 'جنيه 1,519.00', 'جنيه 199.98', 'جنيه 125.00', 'جنيه 248.47', 'جنيه 75.00', 'جنيه 1,599.90', 'جنيه 1,599.90', 'جنيه 1,250.00', 'جنيه 99.00', 'جنيه 499.00', 'جنيه 139.38', 'جنيه 75.00', 'جنيه 489.00']\n"
     ]
    }
   ],
   "source": [
    "print(product_price)"
   ]
  },
  {
   "cell_type": "code",
   "execution_count": 16,
   "metadata": {},
   "outputs": [],
   "source": [
    "import pandas as pd"
   ]
  },
  {
   "cell_type": "code",
   "execution_count": 17,
   "metadata": {},
   "outputs": [],
   "source": [
    "df = pd.DataFrame({\"product_title\": product_title, \"product_price\": product_price, \"product_rate\": product_rate, \"url\": url})"
   ]
  },
  {
   "cell_type": "code",
   "execution_count": 18,
   "metadata": {},
   "outputs": [
    {
     "data": {
      "text/html": [
       "<div>\n",
       "<style scoped>\n",
       "    .dataframe tbody tr th:only-of-type {\n",
       "        vertical-align: middle;\n",
       "    }\n",
       "\n",
       "    .dataframe tbody tr th {\n",
       "        vertical-align: top;\n",
       "    }\n",
       "\n",
       "    .dataframe thead th {\n",
       "        text-align: right;\n",
       "    }\n",
       "</style>\n",
       "<table border=\"1\" class=\"dataframe\">\n",
       "  <thead>\n",
       "    <tr style=\"text-align: right;\">\n",
       "      <th></th>\n",
       "      <th>product_title</th>\n",
       "      <th>product_price</th>\n",
       "      <th>product_rate</th>\n",
       "      <th>url</th>\n",
       "    </tr>\n",
       "  </thead>\n",
       "  <tbody>\n",
       "    <tr>\n",
       "      <th>0</th>\n",
       "      <td>راس شاحن ايفون - 20 واط - مدخل تايب سى - ابيض</td>\n",
       "      <td>جنيه 144.43</td>\n",
       "      <td>4.5 out of 5</td>\n",
       "      <td>https://eg.jumia.is/unsafe/fit-in/300x300/filt...</td>\n",
       "    </tr>\n",
       "    <tr>\n",
       "      <th>1</th>\n",
       "      <td>شاحن ايفون سريع - 20 واط + كابل شحن من (تايب س...</td>\n",
       "      <td>جنيه 214.13</td>\n",
       "      <td>3.4 out of 5</td>\n",
       "      <td>https://eg.jumia.is/unsafe/fit-in/300x300/filt...</td>\n",
       "    </tr>\n",
       "    <tr>\n",
       "      <th>2</th>\n",
       "      <td>Samsung شاحن حائط سريع من سامسونج من النوع تاي...</td>\n",
       "      <td>جنيه 565.00</td>\n",
       "      <td>4.2 out of 5</td>\n",
       "      <td>https://eg.jumia.is/unsafe/fit-in/300x300/filt...</td>\n",
       "    </tr>\n",
       "    <tr>\n",
       "      <th>3</th>\n",
       "      <td>محول تيار شاحن ابل ايفون بقدرة 20 وات ومنفذ US...</td>\n",
       "      <td>جنيه 625.00</td>\n",
       "      <td>5 out of 5</td>\n",
       "      <td>https://eg.jumia.is/unsafe/fit-in/300x300/filt...</td>\n",
       "    </tr>\n",
       "    <tr>\n",
       "      <th>4</th>\n",
       "      <td>راس شاحن سريع 45 واط - بمنفذين (يو اس بى) و(تا...</td>\n",
       "      <td>جنيه 249.48</td>\n",
       "      <td>4.6 out of 5</td>\n",
       "      <td>https://eg.jumia.is/unsafe/fit-in/300x300/filt...</td>\n",
       "    </tr>\n",
       "  </tbody>\n",
       "</table>\n",
       "</div>"
      ],
      "text/plain": [
       "                                       product_title product_price  \\\n",
       "0      راس شاحن ايفون - 20 واط - مدخل تايب سى - ابيض   جنيه 144.43   \n",
       "1  شاحن ايفون سريع - 20 واط + كابل شحن من (تايب س...   جنيه 214.13   \n",
       "2  Samsung شاحن حائط سريع من سامسونج من النوع تاي...   جنيه 565.00   \n",
       "3  محول تيار شاحن ابل ايفون بقدرة 20 وات ومنفذ US...   جنيه 625.00   \n",
       "4  راس شاحن سريع 45 واط - بمنفذين (يو اس بى) و(تا...   جنيه 249.48   \n",
       "\n",
       "   product_rate                                                url  \n",
       "0  4.5 out of 5  https://eg.jumia.is/unsafe/fit-in/300x300/filt...  \n",
       "1  3.4 out of 5  https://eg.jumia.is/unsafe/fit-in/300x300/filt...  \n",
       "2  4.2 out of 5  https://eg.jumia.is/unsafe/fit-in/300x300/filt...  \n",
       "3    5 out of 5  https://eg.jumia.is/unsafe/fit-in/300x300/filt...  \n",
       "4  4.6 out of 5  https://eg.jumia.is/unsafe/fit-in/300x300/filt...  "
      ]
     },
     "execution_count": 18,
     "metadata": {},
     "output_type": "execute_result"
    }
   ],
   "source": [
    "df.head()"
   ]
  },
  {
   "cell_type": "code",
   "execution_count": 19,
   "metadata": {},
   "outputs": [],
   "source": [
    "df.to_csv(\"jumia_data.csv\", index=False)"
   ]
  },
  {
   "cell_type": "code",
   "execution_count": 20,
   "metadata": {},
   "outputs": [],
   "source": [
    "driver.close()"
   ]
  },
  {
   "cell_type": "code",
   "execution_count": null,
   "metadata": {},
   "outputs": [],
   "source": []
  },
  {
   "cell_type": "code",
   "execution_count": null,
   "metadata": {},
   "outputs": [],
   "source": []
  },
  {
   "cell_type": "code",
   "execution_count": 21,
   "metadata": {},
   "outputs": [
    {
     "data": {
      "text/plain": [
       "\"\\n//div/h3[@class='name'] -> title\\n//div/div[@class='prc'] -> price\\n//div/div/div[@class='stars _s'] -> rating\\n\\n\\n//div/img[@class='img xh-highlight'] -> image url\\n//div[@class='img-c']/img[@class='img']\\n\""
      ]
     },
     "execution_count": 21,
     "metadata": {},
     "output_type": "execute_result"
    }
   ],
   "source": [
    "\"\"\"\n",
    "//div/h3[@class='name'] -> title\n",
    "//div/div[@class='prc'] -> price\n",
    "//div/div/div[@class='stars _s'] -> rating\n",
    "\n",
    "\n",
    "//div/img[@class='img xh-highlight'] -> image url\n",
    "//div[@class='img-c']/img[@class='img']\n",
    "\"\"\""
   ]
  }
 ],
 "metadata": {
  "kernelspec": {
   "display_name": "Python 3",
   "language": "python",
   "name": "python3"
  },
  "language_info": {
   "codemirror_mode": {
    "name": "ipython",
    "version": 3
   },
   "file_extension": ".py",
   "mimetype": "text/x-python",
   "name": "python",
   "nbconvert_exporter": "python",
   "pygments_lexer": "ipython3",
   "version": "3.8.5"
  }
 },
 "nbformat": 4,
 "nbformat_minor": 4
}
